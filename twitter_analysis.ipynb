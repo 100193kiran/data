{
  "nbformat": 4,
  "nbformat_minor": 0,
  "metadata": {
    "colab": {
      "name": "Copy of twitter_analysis.ipynb",
      "provenance": [],
      "include_colab_link": true
    },
    "kernelspec": {
      "name": "python3",
      "display_name": "Python 3"
    }
  },
  "cells": [
    {
      "cell_type": "markdown",
      "metadata": {
        "id": "view-in-github",
        "colab_type": "text"
      },
      "source": [
        "<a href=\"https://colab.research.google.com/github/100193kiran/data/blob/master/twitter_analysis.ipynb\" target=\"_parent\"><img src=\"https://colab.research.google.com/assets/colab-badge.svg\" alt=\"Open In Colab\"/></a>"
      ]
    },
    {
      "cell_type": "code",
      "metadata": {
        "id": "QPYOMqyPu-02"
      },
      "source": [
        "import re \n",
        "import tweepy \n",
        "from tweepy import OAuthHandler \n",
        "from textblob import TextBlob"
      ],
      "execution_count": null,
      "outputs": []
    },
    {
      "cell_type": "code",
      "metadata": {
        "id": "o8fJQ9DRvb_7"
      },
      "source": [
        "class TwitterClient(object): \n",
        "    def __init__(self): \n",
        "        ''' \n",
        "        Class constructor or initialization method. \n",
        "        '''\n",
        "        # keys and tokens from the Twitter Dev Console \n",
        "        consumer_key = 'B7QnOAgtlJo5Pp8SHfQLEee3o'\n",
        "        consumer_secret = '7mNHllqNSF5xqenMCXCs8a2fxWBoISOSzK2dWzy0oW3uEfCdki'\n",
        "        access_token = '2149279066-UoaKsphdlVioq53gpocTD1dnhzWr0OTPth2i32J'\n",
        "        access_token_secret = 'yE2RUEl7bivzIPYqu6AFfoMaxvFr9UGge1e82DtPerHTr'\n",
        "        try:  \n",
        "            self.auth = OAuthHandler(consumer_key, consumer_secret) \n",
        "            self.auth.set_access_token(access_token, access_token_secret) \n",
        "            self.api = tweepy.API(self.auth) \n",
        "        except: \n",
        "            print(\"Error: Authentication Failed\") \n",
        "  \n",
        "    def clean_tweet(self, tweet): \n",
        "        return ' '.join(re.sub(\"(@[A-Za-z0-9]+)|([^0-9A-Za-z \\t])|(\\w+:\\/\\/\\S+)\", \" \", tweet).split()) \n",
        "  \n",
        "    def get_tweet_sentiment(self, tweet): \n",
        "        analysis = TextBlob(self.clean_tweet(tweet)) \n",
        "        if analysis.sentiment.polarity > 0: \n",
        "            return 'positive'\n",
        "        elif analysis.sentiment.polarity == 0: \n",
        "            return 'neutral'\n",
        "        else: \n",
        "            return 'negative'\n",
        "  \n",
        "    def get_tweets(self, query, count = 10): \n",
        "        ''' \n",
        "        Main function to fetch tweets and parse them. \n",
        "        '''\n",
        "        tweets = [] \n",
        "  \n",
        "        try: \n",
        "            fetched_tweets = self.api.search(q = query, count = count) \n",
        "            for tweet in fetched_tweets: \n",
        "                parsed_tweet = {} \n",
        "                parsed_tweet['text'] = tweet.text  \n",
        "                parsed_tweet['sentiment'] = self.get_tweet_sentiment(tweet.text) \n",
        "                if tweet.retweet_count > 0: \n",
        "                    if parsed_tweet not in tweets: \n",
        "                        tweets.append(parsed_tweet) \n",
        "                else: \n",
        "                    tweets.append(parsed_tweet) \n",
        "            return tweets \n",
        "  \n",
        "        except tweepy.TweepError as e: \n",
        "            print(\"Error : \" + str(e)) \n",
        " "
      ],
      "execution_count": null,
      "outputs": []
    },
    {
      "cell_type": "code",
      "metadata": {
        "id": "x6ZdeN0EdsM-"
      },
      "source": [
        "def main(): \n",
        "    api = TwitterClient() \n",
        "    query_h = input(\"Enter Your search Hashtags\")\n",
        "    tweets = api.get_tweets(query = query_h, count = 200) \n",
        "    ptweets = [tweet for tweet in tweets if tweet['sentiment'] == 'positive'] \n",
        "    print(\"Positive tweets percentage: {} %\".format(100*len(ptweets)/len(tweets)))  \n",
        "    ntweets = [tweet for tweet in tweets if tweet['sentiment'] == 'negative'] \n",
        "    print(\"Negative tweets percentage: {} %\".format(100*len(ntweets)/len(tweets))) \n",
        "    print(\"Neutral tweets percentage: {} % \\ \".format(100*(len(tweets) -(len( ntweets )+len( ptweets)))/len(tweets))) \n",
        "    print(\"\\n\\nPositive tweets:\") \n",
        "    for tweet in ptweets[:10]: \n",
        "        print(tweet['text']) \n",
        "    print(\"\\n\\nNegative tweets:\") \n",
        "    for tweet in ntweets[:10]: \n",
        "        print(tweet['text'])"
      ],
      "execution_count": null,
      "outputs": []
    },
    {
      "cell_type": "code",
      "metadata": {
        "id": "24WlBQOidxhn",
        "colab": {
          "base_uri": "https://localhost:8080/"
        },
        "outputId": "a598e4b7-b958-4251-927f-031ffa5d38d2"
      },
      "source": [
        "main()"
      ],
      "execution_count": null,
      "outputs": [
        {
          "output_type": "stream",
          "text": [
            "Enter Your search Hashtagstrump\n",
            "Positive tweets percentage: 32.926829268292686 %\n",
            "Negative tweets percentage: 18.29268292682927 %\n",
            "Neutral tweets percentage: 48.78048780487805 % \\ \n",
            "\n",
            "\n",
            "Positive tweets:\n",
            "RT @marceelias: We have already had two important court decisions today in GA and MI.\n",
            "\n",
            "Trump and his allies are 1-47 in post-election litig…\n",
            "Donald Trump sues Joe Biden directly in bid to invalidate hundreds of thousands of votes in Wisconsin https://t.co/PpuVH1PFVy\n",
            "Top story: Trump administration officials passed when Pfizer offered in late summer to sell the U.S. more vaccine d… https://t.co/u11iXtag3u\n",
            "RT @colleen_benn: Trump is a traitor to Americans. \n",
            "\n",
            "He passed when offered more vaccines, pulled out of the World Health Organization and…\n",
            "RT @OMGno2trump: Breaking:  The Trump administration bragged about how great their project Warp Speed did getting companies to develop a CO…\n",
            "@richsignorelli @JoChiaradia @LindseyGrahamSC I’ve been saying the same for months. There’s no other explanation fo… https://t.co/MMEyy7PXps\n",
            "RT @OK_Dumbass: @MelissaJPeltier @GeoRebekah This is what Putin did to a highly-regarded Russian academic who uncovered new evidence of atr…\n",
            "RT @Brasilmagic: @madbow1 So am I. This winter is just too much. We could be out of the woods by now. And trump makes it work with his craz…\n",
            "RT @kylegriffin1: ATLANTA (AP) -- Georgia governor recertifies presidential electors after recount requested by Trump affirms Biden win.\n",
            "RT @TribulationThe: Georgia Gov and the CHICOMS! MUST READ fro Dave Hodges!\n",
            "\n",
            "Top Georgia Officials Are Directly Connected to CHICOM Interfe…\n",
            "\n",
            "\n",
            "Negative tweets:\n",
            "RT @Alyssa_Milano: .@TedCruz is trying to keep Trump’s base so he can run in ‘24. Please stop amplifying everything he says and does. \n",
            "\n",
            "Tal…\n",
            "@realDonaldTrump @marthamaccallum When Trump held up a Bible, it was the wrong way up.\n",
            "That denotes Devil Worship\n",
            "RT @atrupar: This is unreal. Trump abruptly walked out of Dan Gable’s Medal of Freedom ceremony today, leaving Gable shrugging and at a com…\n",
            "RT @kylegriffin1: Breaking NYT: Trump officials passed when Pfizer offered in late summer to sell the U.S. government additional doses of i…\n",
            "RT @theblackhanders: It isn’t stupid it is an angle. The White House uses their platform to push or criticize companies. Making $$ for them…\n",
            "Don’t you get the feeling that if the average Republican in Congress was a guard dog and Trump was a burglar who wa… https://t.co/AY0KoaBQiv\n",
            "@SecAzar is yet another dangerous TRUMP STOOGE, and is just pure, LYING TRASH.  That is all.\n",
            "RT @Byron_Wan: Di Dongsheng: we can’t fix Trump via Wall Street, but with Biden ... https://t.co/N2RoaWybAa\n",
            "RT @cher: Nero=🔥\n",
            "Marie Antoinette=🎂\n",
            "Melania=🎾🎾\n",
            "👑Heir,Spare=⚰️🐃🐆🐘🐃\n",
            "trump=⛓👶🏼👧🏽👦🏻⛓\n",
            "trump=🦠⚰️⚰️⚰️⚰️⚰️⚰️\n",
            "trump🤲🏻Tax🔪2💰💎🛩🛳\n",
            "trump..tries 2🔪🩺🔬care…\n",
            "RT @TrumpRulzz: Ok this is TERRIFYING! China is BRAGGING about Biden getting elected &amp; \"deals\" they have with us! President Trump must enac…\n"
          ],
          "name": "stdout"
        }
      ]
    }
  ]
}